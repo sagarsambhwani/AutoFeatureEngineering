{
  "nbformat": 4,
  "nbformat_minor": 0,
  "metadata": {
    "colab": {
      "provenance": []
    },
    "kernelspec": {
      "name": "python3",
      "display_name": "Python 3"
    },
    "language_info": {
      "name": "python"
    }
  },
  "cells": [
    {
      "cell_type": "code",
      "execution_count": 1,
      "metadata": {
        "colab": {
          "base_uri": "https://localhost:8080/"
        },
        "id": "VeYd3rcgQt4E",
        "outputId": "1a5fd7fd-f63b-4990-9679-0cee1331d29d"
      },
      "outputs": [
        {
          "output_type": "stream",
          "name": "stdout",
          "text": [
            "Requirement already satisfied: Automatic-Feature-Engineering in /usr/local/lib/python3.10/dist-packages (0.2.2)\n",
            "Collecting Automatic-Feature-Engineering\n",
            "  Downloading Automatic_Feature_Engineering-0.3.0-py3-none-any.whl.metadata (1.3 kB)\n",
            "Requirement already satisfied: pandas in /usr/local/lib/python3.10/dist-packages (from Automatic-Feature-Engineering) (2.2.2)\n",
            "Requirement already satisfied: scikit-learn in /usr/local/lib/python3.10/dist-packages (from Automatic-Feature-Engineering) (1.5.2)\n",
            "Requirement already satisfied: category-encoders in /usr/local/lib/python3.10/dist-packages (from Automatic-Feature-Engineering) (2.6.4)\n",
            "Requirement already satisfied: numpy in /usr/local/lib/python3.10/dist-packages (from Automatic-Feature-Engineering) (1.26.4)\n",
            "Requirement already satisfied: tsfresh in /usr/local/lib/python3.10/dist-packages (from Automatic-Feature-Engineering) (0.20.3)\n",
            "Requirement already satisfied: scipy>=1.0.0 in /usr/local/lib/python3.10/dist-packages (from category-encoders->Automatic-Feature-Engineering) (1.14.1)\n",
            "Requirement already satisfied: statsmodels>=0.9.0 in /usr/local/lib/python3.10/dist-packages (from category-encoders->Automatic-Feature-Engineering) (0.14.4)\n",
            "Requirement already satisfied: patsy>=0.5.1 in /usr/local/lib/python3.10/dist-packages (from category-encoders->Automatic-Feature-Engineering) (0.5.6)\n",
            "Requirement already satisfied: python-dateutil>=2.8.2 in /usr/local/lib/python3.10/dist-packages (from pandas->Automatic-Feature-Engineering) (2.8.2)\n",
            "Requirement already satisfied: pytz>=2020.1 in /usr/local/lib/python3.10/dist-packages (from pandas->Automatic-Feature-Engineering) (2024.2)\n",
            "Requirement already satisfied: tzdata>=2022.7 in /usr/local/lib/python3.10/dist-packages (from pandas->Automatic-Feature-Engineering) (2024.2)\n",
            "Requirement already satisfied: joblib>=1.2.0 in /usr/local/lib/python3.10/dist-packages (from scikit-learn->Automatic-Feature-Engineering) (1.4.2)\n",
            "Requirement already satisfied: threadpoolctl>=3.1.0 in /usr/local/lib/python3.10/dist-packages (from scikit-learn->Automatic-Feature-Engineering) (3.5.0)\n",
            "Requirement already satisfied: requests>=2.9.1 in /usr/local/lib/python3.10/dist-packages (from tsfresh->Automatic-Feature-Engineering) (2.32.3)\n",
            "Requirement already satisfied: tqdm>=4.10.0 in /usr/local/lib/python3.10/dist-packages (from tsfresh->Automatic-Feature-Engineering) (4.66.5)\n",
            "Requirement already satisfied: stumpy>=1.7.2 in /usr/local/lib/python3.10/dist-packages (from tsfresh->Automatic-Feature-Engineering) (1.13.0)\n",
            "Requirement already satisfied: cloudpickle in /usr/local/lib/python3.10/dist-packages (from tsfresh->Automatic-Feature-Engineering) (3.1.0)\n",
            "Requirement already satisfied: six in /usr/local/lib/python3.10/dist-packages (from patsy>=0.5.1->category-encoders->Automatic-Feature-Engineering) (1.16.0)\n",
            "Requirement already satisfied: charset-normalizer<4,>=2 in /usr/local/lib/python3.10/dist-packages (from requests>=2.9.1->tsfresh->Automatic-Feature-Engineering) (3.4.0)\n",
            "Requirement already satisfied: idna<4,>=2.5 in /usr/local/lib/python3.10/dist-packages (from requests>=2.9.1->tsfresh->Automatic-Feature-Engineering) (3.10)\n",
            "Requirement already satisfied: urllib3<3,>=1.21.1 in /usr/local/lib/python3.10/dist-packages (from requests>=2.9.1->tsfresh->Automatic-Feature-Engineering) (2.2.3)\n",
            "Requirement already satisfied: certifi>=2017.4.17 in /usr/local/lib/python3.10/dist-packages (from requests>=2.9.1->tsfresh->Automatic-Feature-Engineering) (2024.8.30)\n",
            "Requirement already satisfied: packaging>=21.3 in /usr/local/lib/python3.10/dist-packages (from statsmodels>=0.9.0->category-encoders->Automatic-Feature-Engineering) (24.1)\n",
            "Requirement already satisfied: numba>=0.57.1 in /usr/local/lib/python3.10/dist-packages (from stumpy>=1.7.2->tsfresh->Automatic-Feature-Engineering) (0.60.0)\n",
            "Requirement already satisfied: llvmlite<0.44,>=0.43.0dev0 in /usr/local/lib/python3.10/dist-packages (from numba>=0.57.1->stumpy>=1.7.2->tsfresh->Automatic-Feature-Engineering) (0.43.0)\n",
            "Downloading Automatic_Feature_Engineering-0.3.0-py3-none-any.whl (4.4 kB)\n",
            "Installing collected packages: Automatic-Feature-Engineering\n",
            "  Attempting uninstall: Automatic-Feature-Engineering\n",
            "    Found existing installation: Automatic_Feature_Engineering 0.2.2\n",
            "    Uninstalling Automatic_Feature_Engineering-0.2.2:\n",
            "      Successfully uninstalled Automatic_Feature_Engineering-0.2.2\n",
            "Successfully installed Automatic-Feature-Engineering-0.3.0\n"
          ]
        }
      ],
      "source": [
        "!pip install Automatic-Feature-Engineering"
      ]
    },
    {
      "cell_type": "code",
      "source": [
        "from Automatic_Feature_Engineering.featureEngineering import AutoFeatureEngineering"
      ],
      "metadata": {
        "id": "Ftm125c3Q3Ao"
      },
      "execution_count": 2,
      "outputs": []
    },
    {
      "cell_type": "code",
      "source": [
        "import pandas as pd\n",
        "from sklearn.model_selection import train_test_split\n",
        "from sklearn.linear_model import LinearRegression\n",
        "from sklearn.metrics import classification_report, confusion_matrix, mean_squared_error, r2_score\n",
        "\n",
        "# Load the dataset\n",
        "df = pd.read_csv(\"/content/sample_data/california_housing_train.csv\")\n",
        "\n",
        "# Initialize the feature engineering class\n",
        "fe = AutoFeatureEngineering(target_col='median_house_value', null_strategy='mean', encoding_method='target')\n",
        "\n",
        "# Apply feature engineering\n",
        "transformed_df = fe.fit_transform(df)\n",
        "print(transformed_df.head(5))\n",
        "\n",
        "# Ensure the target column is present\n",
        "print(\"Transformed Data Columns:\\n\", transformed_df.columns)\n",
        "\n",
        "# Split the data into features and target\n",
        "X = transformed_df.drop(columns=['median_house_value'])\n",
        "y = transformed_df['median_house_value']\n",
        "\n",
        "# Train-test split\n",
        "X_train, X_test, y_train, y_test = train_test_split(X, y, test_size=0.2, random_state=42)\n",
        "\n",
        "# Train a RandomForest model\n",
        "model = LinearRegression()\n",
        "model.fit(X_train, y_train)\n",
        "\n",
        "# Evaluate the model\n",
        "y_pred = model.predict(X_test)\n",
        "print(\"\\nmean_squared_error:\\n\", mean_squared_error(y_test, y_pred))\n",
        "print(\"\\nr2_score:\\n\", r2_score(y_test, y_pred))"
      ],
      "metadata": {
        "colab": {
          "base_uri": "https://localhost:8080/"
        },
        "id": "hfxHICW7RbgC",
        "outputId": "67ef6136-2864-4a56-f312-145e52eb124c"
      },
      "execution_count": 5,
      "outputs": [
        {
          "output_type": "stream",
          "name": "stdout",
          "text": [
            "Warning: No categorical columns found. Calling 'transform' will only return input data.\n",
            "   longitude median_income  housing_median_age median_income  median_income^2  \\\n",
            "0              -170.733416                           22.4040         2.230841   \n",
            "1              -208.335400                           34.5800         3.312400   \n",
            "2              -189.127104                           28.0653         2.725471   \n",
            "3              -365.673069                           44.6838        10.186949   \n",
            "4              -220.547250                           38.5000         3.705625   \n",
            "\n",
            "   median_income  longitude latitude  latitude  longitude^2  longitude  \\\n",
            "0         1.4936          -3908.2589     34.19   13066.7761    -114.31   \n",
            "1         1.8200          -3937.7680     34.40   13103.3809    -114.47   \n",
            "2         1.6509          -3859.5264     33.69   13123.9936    -114.56   \n",
            "3         3.1917          -3854.1348     33.64   13126.2849    -114.57   \n",
            "4         1.9250          -3846.1149     33.57   13126.2849    -114.57   \n",
            "\n",
            "   latitude^2  housing_median_age total_bedrooms  \\\n",
            "0   1168.9561                            19245.0   \n",
            "1   1183.3600                            36119.0   \n",
            "2   1135.0161                             2958.0   \n",
            "3   1131.6496                             4718.0   \n",
            "4   1126.9449                             6520.0   \n",
            "\n",
            "   housing_median_age population  longitude housing_median_age  \\\n",
            "0                        15225.0                      -1714.65   \n",
            "1                        21451.0                      -2174.93   \n",
            "2                         5661.0                      -1947.52   \n",
            "3                         7210.0                      -1603.98   \n",
            "4                        12480.0                      -2291.40   \n",
            "\n",
            "   latitude median_income  housing_median_age households  median_house_value  \n",
            "0               51.066184                         7080.0             66900.0  \n",
            "1               62.608000                         8797.0             80100.0  \n",
            "2               55.618821                         1989.0             85700.0  \n",
            "3              107.368788                         3164.0             73400.0  \n",
            "4               64.622250                         5240.0             65500.0  \n",
            "Transformed Data Columns:\n",
            " Index(['longitude median_income', 'housing_median_age median_income',\n",
            "       'median_income^2', 'median_income', 'longitude latitude', 'latitude',\n",
            "       'longitude^2', 'longitude', 'latitude^2',\n",
            "       'housing_median_age total_bedrooms', 'housing_median_age population',\n",
            "       'longitude housing_median_age', 'latitude median_income',\n",
            "       'housing_median_age households', 'median_house_value'],\n",
            "      dtype='object')\n",
            "\n",
            "mean_squared_error:\n",
            " 4153988841.323071\n",
            "\n",
            "r2_score:\n",
            " 0.69852423192702\n"
          ]
        }
      ]
    },
    {
      "cell_type": "code",
      "source": [],
      "metadata": {
        "id": "THZuHAAuVjnI"
      },
      "execution_count": 2,
      "outputs": []
    },
    {
      "cell_type": "code",
      "source": [
        "\n"
      ],
      "metadata": {
        "id": "X7vRGI71V7Mw"
      },
      "execution_count": 2,
      "outputs": []
    },
    {
      "cell_type": "code",
      "source": [],
      "metadata": {
        "id": "YTmjTEiiV_lp"
      },
      "execution_count": null,
      "outputs": []
    }
  ]
}